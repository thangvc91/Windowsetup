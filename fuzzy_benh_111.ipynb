{
 "cells": [
  {
   "cell_type": "code",
   "execution_count": null,
   "metadata": {},
   "outputs": [],
   "source": [
    "from lib1.import1 import * \n",
    "from lib1.fuzzy_rev3_copy  import *\n",
    "# from fuzzywuzzy import fuzz\n",
    "from fuzzyfinder import fuzzyfinder"
   ]
  },
  {
   "cell_type": "code",
   "execution_count": null,
   "metadata": {},
   "outputs": [],
   "source": [
    "try:\n",
    "    from cfuzzyset import cFuzzySet as FuzzySet\n",
    "except ImportError:\n",
    "    from fuzzyset import FuzzySet"
   ]
  },
  {
   "cell_type": "code",
   "execution_count": null,
   "metadata": {},
   "outputs": [],
   "source": [
    "from operator import itemgetter\n",
    "def fuzzythang(xstring):\n",
    "    res1 = []\n",
    "    for each in lib2:\n",
    "        a = FuzzySet(each)\n",
    "        a.add(each)\n",
    "        res1.append(a.get(xstring))\n",
    "    res2 = [f for f in res1 if f != None]\n",
    "    \n",
    "    # return list(max(res2,key=itemgetter(0))[0])[1]\n",
    "    return res2"
   ]
  },
  {
   "cell_type": "code",
   "execution_count": null,
   "metadata": {},
   "outputs": [],
   "source": [
    "def findillness(xstring):\n",
    "    count = 0 \n",
    "    list_rate = []\n",
    "    for each in lib1:\n",
    "        temp = each\n",
    "        for c in xstring:\n",
    "            # lentemp= len(each)\n",
    "            if c in each:\n",
    "                # print(c)\n",
    "                count+=1\n",
    "                each = each.replace(c, \"#\")  \n",
    "                # print(each)\n",
    "        rate = count/len(temp)\n",
    "        # print(rate)\n",
    "        if rate >= 0.8 and rate <=1:\n",
    "            list_rate.append(rate)\n",
    "    return lib1[list_rate.index(max(list_rate))]"
   ]
  },
  {
   "cell_type": "code",
   "execution_count": 89,
   "metadata": {},
   "outputs": [],
   "source": [
    "from __future__ import division\n",
    "def findillness2(xstring):  \n",
    "    if len(xstring) >= 40:\n",
    "        xstring = xstring[:30]\n",
    "    list_rate = []\n",
    "    for each in lib1:\n",
    "        temp = each\n",
    "        count = 0 \n",
    "        for c in xstring:\n",
    "            if c in each:\n",
    "                count += 1\n",
    "                each = each.replace(c, \"#\")\n",
    "                # print(f'each: {each} --- count: {count}')\n",
    "        rate = count/len(each)\n",
    "        # print(rate)\n",
    "        if rate >= 0.8:\n",
    "            # list_rate.append({'rate':rate,\"benh\":temp})\n",
    "            return temp\n",
    "\n",
    "    # return lib1[list_rate.index(max(list_rate))]\n",
    "    # return list_rate"
   ]
  },
  {
   "cell_type": "code",
   "execution_count": 91,
   "metadata": {},
   "outputs": [
    {
     "data": {
      "text/plain": [
       "'SOI THAN'"
      ]
     },
     "execution_count": 91,
     "metadata": {},
     "output_type": "execute_result"
    }
   ],
   "source": [
    "l_1 = findillness2(\"TAO HINH VAN HAI LA, TANG TRIGLYCERIC, RL TH NAO, RL DUONG HUYET DOI\")\n",
    "l_1\n"
   ]
  },
  {
   "cell_type": "code",
   "execution_count": null,
   "metadata": {},
   "outputs": [],
   "source": [
    "xpath = r\"C:\\Users\\thang\\Downloads\\bdt111.xlsx\""
   ]
  },
  {
   "cell_type": "code",
   "execution_count": null,
   "metadata": {},
   "outputs": [],
   "source": [
    "df = pd.read_excel(xpath)"
   ]
  },
  {
   "cell_type": "code",
   "execution_count": null,
   "metadata": {},
   "outputs": [],
   "source": [
    "df.head()"
   ]
  },
  {
   "cell_type": "code",
   "execution_count": null,
   "metadata": {},
   "outputs": [],
   "source": [
    "df['Bệnh điều trị1 ']"
   ]
  },
  {
   "cell_type": "code",
   "execution_count": null,
   "metadata": {},
   "outputs": [],
   "source": [
    "df['test'] = df['Bệnh điều trị1 '].apply(lambda x: fuzzythang(x))"
   ]
  },
  {
   "cell_type": "code",
   "execution_count": null,
   "metadata": {},
   "outputs": [],
   "source": [
    "df.to_excel(r\"C:\\Users\\thang\\Downloads\\bdt111_extract.xlsx\")"
   ]
  },
  {
   "cell_type": "code",
   "execution_count": null,
   "metadata": {},
   "outputs": [],
   "source": [
    "new_df = pd.merge(df, lib.drop_duplicates('Loại bệnh',keep='last'), how='left', left_on='test',right_on = 'Loại bệnh')"
   ]
  },
  {
   "cell_type": "code",
   "execution_count": null,
   "metadata": {},
   "outputs": [],
   "source": [
    "new_df.to_excel(r\"C:\\Users\\thang\\Downloads\\bdt11_fuzzy.xlsx\")"
   ]
  },
  {
   "cell_type": "code",
   "execution_count": null,
   "metadata": {},
   "outputs": [],
   "source": [
    "# print(lib1[0])"
   ]
  },
  {
   "cell_type": "code",
   "execution_count": null,
   "metadata": {},
   "outputs": [],
   "source": [
    "# def checkbenh(xbenh):\n",
    "#     if pd.isnull(xbenh):\n",
    "#         return \"THANG\"\n",
    "#     else:\n",
    "#         for j in range(xbenh):\n",
    "#             for k \n",
    "# from lib1.import1 import * \n",
    "# from lib1.fuzzy_rev3_copy  import *\n",
    "# print(fuzzy2k(\"Viêm đại tràng cấp tính, sỏi thật \")       )"
   ]
  },
  {
   "cell_type": "code",
   "execution_count": null,
   "metadata": {},
   "outputs": [],
   "source": []
  },
  {
   "cell_type": "code",
   "execution_count": null,
   "metadata": {},
   "outputs": [],
   "source": [
    "\n",
    "    \n",
    "# res2 = fuzzythang(\"BỆNH LÝ CƠ TIM DO THIẾU MÁU CỤC BỘ - TÁI KHÁM BỆNH CƠ TIM THIẾU MÁU CỤC BỘ ĐÃ ĐẶT STENT NĂM 2016, NHỊP TIM THẤT THƯỜNG(I25.5)\")\n",
    "# res3 = [f for f in res2 if f != None]\n",
    "# # res4 = list(map(list, res3))\n",
    "# # print(list(res4[0]))\n",
    "# from operator import itemgetter\n",
    "# list(max(res3,key=itemgetter(0))[0])[1]"
   ]
  },
  {
   "cell_type": "code",
   "execution_count": null,
   "metadata": {},
   "outputs": [],
   "source": [
    "a = FuzzySet()\n",
    "a.add(\"Van Cong Thang\")\n",
    "print(a.get(\"Van Thang\"))"
   ]
  }
 ],
 "metadata": {
  "kernelspec": {
   "display_name": "Python 3.9.7 ('base')",
   "language": "python",
   "name": "python3"
  },
  "language_info": {
   "codemirror_mode": {
    "name": "ipython",
    "version": 3
   },
   "file_extension": ".py",
   "mimetype": "text/x-python",
   "name": "python",
   "nbconvert_exporter": "python",
   "pygments_lexer": "ipython3",
   "version": "3.9.7"
  },
  "orig_nbformat": 4,
  "vscode": {
   "interpreter": {
    "hash": "ad2bdc8ecc057115af97d19610ffacc2b4e99fae6737bb82f5d7fb13d2f2c186"
   }
  }
 },
 "nbformat": 4,
 "nbformat_minor": 2
}
